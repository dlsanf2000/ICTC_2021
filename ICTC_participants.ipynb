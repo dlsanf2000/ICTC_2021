{
  "nbformat": 4,
  "nbformat_minor": 0,
  "metadata": {
    "colab": {
      "name": "ICTC_participants.ipynb",
      "provenance": [],
      "collapsed_sections": [
        "eUqYbW3UUOrV"
      ]
    },
    "kernelspec": {
      "name": "python3",
      "display_name": "Python 3"
    },
    "language_info": {
      "name": "python"
    }
  },
  "cells": [
    {
      "cell_type": "markdown",
      "metadata": {
        "id": "eUqYbW3UUOrV"
      },
      "source": [
        "## 코드 불러오기"
      ]
    },
    {
      "cell_type": "code",
      "metadata": {
        "id": "e-g-hS2WW80t"
      },
      "source": [
        "import numpy as np\n",
        "import pandas as pd"
      ],
      "execution_count": null,
      "outputs": []
    },
    {
      "cell_type": "code",
      "metadata": {
        "colab": {
          "base_uri": "https://localhost:8080/"
        },
        "id": "uIrn9oQDXFb7",
        "outputId": "fb1d210c-aaee-41a3-a61b-545d102c3dae"
      },
      "source": [
        "from google.colab import drive\n",
        "drive.mount('/content/drive/')"
      ],
      "execution_count": null,
      "outputs": [
        {
          "output_type": "stream",
          "text": [
            "Mounted at /content/drive/\n"
          ],
          "name": "stdout"
        }
      ]
    },
    {
      "cell_type": "code",
      "metadata": {
        "id": "X_nTv3I0jqLC",
        "colab": {
          "base_uri": "https://localhost:8080/",
          "height": 418
        },
        "outputId": "9a2b7064-b249-4e6e-ad71-ff050cf91337"
      },
      "source": [
        "part = pd.read_csv('/content/drive/MyDrive/Colab Notebooks/ICTC/Dataset/participants.tsv', sep=\"\\t\")\n",
        "path = '/content/drive/MyDrive/Colab Notebooks/ICTC/Dataset'\n",
        "\n",
        "part"
      ],
      "execution_count": null,
      "outputs": [
        {
          "output_type": "execute_result",
          "data": {
            "text/html": [
              "<div>\n",
              "<style scoped>\n",
              "    .dataframe tbody tr th:only-of-type {\n",
              "        vertical-align: middle;\n",
              "    }\n",
              "\n",
              "    .dataframe tbody tr th {\n",
              "        vertical-align: top;\n",
              "    }\n",
              "\n",
              "    .dataframe thead th {\n",
              "        text-align: right;\n",
              "    }\n",
              "</style>\n",
              "<table border=\"1\" class=\"dataframe\">\n",
              "  <thead>\n",
              "    <tr style=\"text-align: right;\">\n",
              "      <th></th>\n",
              "      <th>participant_id</th>\n",
              "      <th>Original_ID</th>\n",
              "      <th>sex</th>\n",
              "      <th>age</th>\n",
              "      <th>BDI</th>\n",
              "      <th>STAI</th>\n",
              "    </tr>\n",
              "  </thead>\n",
              "  <tbody>\n",
              "    <tr>\n",
              "      <th>0</th>\n",
              "      <td>sub-001</td>\n",
              "      <td>507</td>\n",
              "      <td>1.0</td>\n",
              "      <td>19.0</td>\n",
              "      <td>0.0</td>\n",
              "      <td>23.0</td>\n",
              "    </tr>\n",
              "    <tr>\n",
              "      <th>1</th>\n",
              "      <td>sub-002</td>\n",
              "      <td>508</td>\n",
              "      <td>1.0</td>\n",
              "      <td>18.0</td>\n",
              "      <td>4.0</td>\n",
              "      <td>47.0</td>\n",
              "    </tr>\n",
              "    <tr>\n",
              "      <th>2</th>\n",
              "      <td>sub-003</td>\n",
              "      <td>509</td>\n",
              "      <td>1.0</td>\n",
              "      <td>18.0</td>\n",
              "      <td>7.0</td>\n",
              "      <td>44.0</td>\n",
              "    </tr>\n",
              "    <tr>\n",
              "      <th>3</th>\n",
              "      <td>sub-004</td>\n",
              "      <td>510</td>\n",
              "      <td>1.0</td>\n",
              "      <td>19.0</td>\n",
              "      <td>1.0</td>\n",
              "      <td>27.0</td>\n",
              "    </tr>\n",
              "    <tr>\n",
              "      <th>4</th>\n",
              "      <td>sub-005</td>\n",
              "      <td>511</td>\n",
              "      <td>2.0</td>\n",
              "      <td>22.0</td>\n",
              "      <td>1.0</td>\n",
              "      <td>23.0</td>\n",
              "    </tr>\n",
              "    <tr>\n",
              "      <th>...</th>\n",
              "      <td>...</td>\n",
              "      <td>...</td>\n",
              "      <td>...</td>\n",
              "      <td>...</td>\n",
              "      <td>...</td>\n",
              "      <td>...</td>\n",
              "    </tr>\n",
              "    <tr>\n",
              "      <th>117</th>\n",
              "      <td>sub-118</td>\n",
              "      <td>624</td>\n",
              "      <td>1.0</td>\n",
              "      <td>20.0</td>\n",
              "      <td>23.0</td>\n",
              "      <td>60.0</td>\n",
              "    </tr>\n",
              "    <tr>\n",
              "      <th>118</th>\n",
              "      <td>sub-119</td>\n",
              "      <td>625</td>\n",
              "      <td>1.0</td>\n",
              "      <td>19.0</td>\n",
              "      <td>16.0</td>\n",
              "      <td>60.0</td>\n",
              "    </tr>\n",
              "    <tr>\n",
              "      <th>119</th>\n",
              "      <td>sub-120</td>\n",
              "      <td>626</td>\n",
              "      <td>1.0</td>\n",
              "      <td>18.0</td>\n",
              "      <td>14.0</td>\n",
              "      <td>41.0</td>\n",
              "    </tr>\n",
              "    <tr>\n",
              "      <th>120</th>\n",
              "      <td>sub-121</td>\n",
              "      <td>627</td>\n",
              "      <td>2.0</td>\n",
              "      <td>19.0</td>\n",
              "      <td>30.0</td>\n",
              "      <td>47.0</td>\n",
              "    </tr>\n",
              "    <tr>\n",
              "      <th>121</th>\n",
              "      <td>sub-122</td>\n",
              "      <td>628</td>\n",
              "      <td>2.0</td>\n",
              "      <td>18.0</td>\n",
              "      <td>19.0</td>\n",
              "      <td>56.0</td>\n",
              "    </tr>\n",
              "  </tbody>\n",
              "</table>\n",
              "<p>122 rows × 6 columns</p>\n",
              "</div>"
            ],
            "text/plain": [
              "    participant_id  Original_ID  sex   age   BDI  STAI\n",
              "0          sub-001          507  1.0  19.0   0.0  23.0\n",
              "1          sub-002          508  1.0  18.0   4.0  47.0\n",
              "2          sub-003          509  1.0  18.0   7.0  44.0\n",
              "3          sub-004          510  1.0  19.0   1.0  27.0\n",
              "4          sub-005          511  2.0  22.0   1.0  23.0\n",
              "..             ...          ...  ...   ...   ...   ...\n",
              "117        sub-118          624  1.0  20.0  23.0  60.0\n",
              "118        sub-119          625  1.0  19.0  16.0  60.0\n",
              "119        sub-120          626  1.0  18.0  14.0  41.0\n",
              "120        sub-121          627  2.0  19.0  30.0  47.0\n",
              "121        sub-122          628  2.0  18.0  19.0  56.0\n",
              "\n",
              "[122 rows x 6 columns]"
            ]
          },
          "metadata": {
            "tags": []
          },
          "execution_count": 3
        }
      ]
    },
    {
      "cell_type": "markdown",
      "metadata": {
        "id": "_s6YjVLCUT3i"
      },
      "source": [
        "## 전체적 info & describe"
      ]
    },
    {
      "cell_type": "code",
      "metadata": {
        "colab": {
          "base_uri": "https://localhost:8080/"
        },
        "id": "g74SW7pKSOaB",
        "outputId": "1d269baf-5ac9-4fe8-82f2-50d7443fd110"
      },
      "source": [
        "part.info()"
      ],
      "execution_count": null,
      "outputs": [
        {
          "output_type": "stream",
          "text": [
            "<class 'pandas.core.frame.DataFrame'>\n",
            "RangeIndex: 122 entries, 0 to 121\n",
            "Data columns (total 6 columns):\n",
            " #   Column          Non-Null Count  Dtype  \n",
            "---  ------          --------------  -----  \n",
            " 0   participant_id  122 non-null    object \n",
            " 1   Original_ID     122 non-null    int64  \n",
            " 2   sex             121 non-null    float64\n",
            " 3   age             120 non-null    float64\n",
            " 4   BDI             121 non-null    float64\n",
            " 5   STAI            121 non-null    float64\n",
            "dtypes: float64(4), int64(1), object(1)\n",
            "memory usage: 5.8+ KB\n"
          ],
          "name": "stdout"
        }
      ]
    },
    {
      "cell_type": "code",
      "metadata": {
        "colab": {
          "base_uri": "https://localhost:8080/",
          "height": 296
        },
        "id": "MEzw1kphShoJ",
        "outputId": "bae5c650-61b4-48d5-99dd-34e70374befb"
      },
      "source": [
        "part.describe()"
      ],
      "execution_count": null,
      "outputs": [
        {
          "output_type": "execute_result",
          "data": {
            "text/html": [
              "<div>\n",
              "<style scoped>\n",
              "    .dataframe tbody tr th:only-of-type {\n",
              "        vertical-align: middle;\n",
              "    }\n",
              "\n",
              "    .dataframe tbody tr th {\n",
              "        vertical-align: top;\n",
              "    }\n",
              "\n",
              "    .dataframe thead th {\n",
              "        text-align: right;\n",
              "    }\n",
              "</style>\n",
              "<table border=\"1\" class=\"dataframe\">\n",
              "  <thead>\n",
              "    <tr style=\"text-align: right;\">\n",
              "      <th></th>\n",
              "      <th>Original_ID</th>\n",
              "      <th>sex</th>\n",
              "      <th>age</th>\n",
              "      <th>BDI</th>\n",
              "      <th>STAI</th>\n",
              "    </tr>\n",
              "  </thead>\n",
              "  <tbody>\n",
              "    <tr>\n",
              "      <th>count</th>\n",
              "      <td>122.000000</td>\n",
              "      <td>121.00000</td>\n",
              "      <td>120.000000</td>\n",
              "      <td>121.000000</td>\n",
              "      <td>121.000000</td>\n",
              "    </tr>\n",
              "    <tr>\n",
              "      <th>mean</th>\n",
              "      <td>567.500000</td>\n",
              "      <td>1.38843</td>\n",
              "      <td>18.883333</td>\n",
              "      <td>9.520661</td>\n",
              "      <td>40.446281</td>\n",
              "    </tr>\n",
              "    <tr>\n",
              "      <th>std</th>\n",
              "      <td>35.362409</td>\n",
              "      <td>0.48942</td>\n",
              "      <td>1.189473</td>\n",
              "      <td>10.506426</td>\n",
              "      <td>13.506758</td>\n",
              "    </tr>\n",
              "    <tr>\n",
              "      <th>min</th>\n",
              "      <td>507.000000</td>\n",
              "      <td>1.00000</td>\n",
              "      <td>18.000000</td>\n",
              "      <td>0.000000</td>\n",
              "      <td>22.000000</td>\n",
              "    </tr>\n",
              "    <tr>\n",
              "      <th>25%</th>\n",
              "      <td>537.250000</td>\n",
              "      <td>1.00000</td>\n",
              "      <td>18.000000</td>\n",
              "      <td>1.000000</td>\n",
              "      <td>29.000000</td>\n",
              "    </tr>\n",
              "    <tr>\n",
              "      <th>50%</th>\n",
              "      <td>567.500000</td>\n",
              "      <td>1.00000</td>\n",
              "      <td>19.000000</td>\n",
              "      <td>3.000000</td>\n",
              "      <td>36.000000</td>\n",
              "    </tr>\n",
              "    <tr>\n",
              "      <th>75%</th>\n",
              "      <td>597.750000</td>\n",
              "      <td>2.00000</td>\n",
              "      <td>19.000000</td>\n",
              "      <td>19.000000</td>\n",
              "      <td>53.000000</td>\n",
              "    </tr>\n",
              "    <tr>\n",
              "      <th>max</th>\n",
              "      <td>628.000000</td>\n",
              "      <td>2.00000</td>\n",
              "      <td>24.000000</td>\n",
              "      <td>30.000000</td>\n",
              "      <td>69.000000</td>\n",
              "    </tr>\n",
              "  </tbody>\n",
              "</table>\n",
              "</div>"
            ],
            "text/plain": [
              "       Original_ID        sex         age         BDI        STAI\n",
              "count   122.000000  121.00000  120.000000  121.000000  121.000000\n",
              "mean    567.500000    1.38843   18.883333    9.520661   40.446281\n",
              "std      35.362409    0.48942    1.189473   10.506426   13.506758\n",
              "min     507.000000    1.00000   18.000000    0.000000   22.000000\n",
              "25%     537.250000    1.00000   18.000000    1.000000   29.000000\n",
              "50%     567.500000    1.00000   19.000000    3.000000   36.000000\n",
              "75%     597.750000    2.00000   19.000000   19.000000   53.000000\n",
              "max     628.000000    2.00000   24.000000   30.000000   69.000000"
            ]
          },
          "metadata": {
            "tags": []
          },
          "execution_count": 11
        }
      ]
    },
    {
      "cell_type": "markdown",
      "metadata": {
        "id": "PCNPRnj8UaJL"
      },
      "source": [
        "## 성별 value counts"
      ]
    },
    {
      "cell_type": "code",
      "metadata": {
        "colab": {
          "base_uri": "https://localhost:8080/"
        },
        "id": "mY2BT2o_SjTo",
        "outputId": "6495eada-3869-48e8-d82a-dd3eaff9cca2"
      },
      "source": [
        "part['sex'].value_counts()"
      ],
      "execution_count": null,
      "outputs": [
        {
          "output_type": "execute_result",
          "data": {
            "text/plain": [
              "1.0    74\n",
              "2.0    47\n",
              "Name: sex, dtype: int64"
            ]
          },
          "metadata": {
            "tags": []
          },
          "execution_count": 12
        }
      ]
    },
    {
      "cell_type": "markdown",
      "metadata": {
        "id": "4Hj97EehUdyI"
      },
      "source": [
        "## BDI 분포도"
      ]
    },
    {
      "cell_type": "code",
      "metadata": {
        "id": "-tpDGXnkSqwx"
      },
      "source": [
        "import seaborn as sns"
      ],
      "execution_count": null,
      "outputs": []
    },
    {
      "cell_type": "code",
      "metadata": {
        "colab": {
          "base_uri": "https://localhost:8080/",
          "height": 352
        },
        "id": "iDH7RrF3S0cg",
        "outputId": "d1ac0012-9ada-410b-d9ef-74ed07fb18f0"
      },
      "source": [
        "sns.distplot(part['BDI'])"
      ],
      "execution_count": null,
      "outputs": [
        {
          "output_type": "stream",
          "text": [
            "/usr/local/lib/python3.7/dist-packages/seaborn/distributions.py:2557: FutureWarning: `distplot` is a deprecated function and will be removed in a future version. Please adapt your code to use either `displot` (a figure-level function with similar flexibility) or `histplot` (an axes-level function for histograms).\n",
            "  warnings.warn(msg, FutureWarning)\n"
          ],
          "name": "stderr"
        },
        {
          "output_type": "execute_result",
          "data": {
            "text/plain": [
              "<matplotlib.axes._subplots.AxesSubplot at 0x7f392b005910>"
            ]
          },
          "metadata": {
            "tags": []
          },
          "execution_count": 14
        },
        {
          "output_type": "display_data",
          "data": {
            "image/png": "[encoded data removed]",
            "text/plain": [
              "<Figure size 432x288 with 1 Axes>"
            ]
          },
          "metadata": {
            "tags": [],
            "needs_background": "light"
          }
        }
      ]
    },
    {
      "cell_type": "code",
      "metadata": {
        "id": "Kxd8ZJdPS29n"
      },
      "source": [
        ""
      ],
      "execution_count": null,
      "outputs": []
    }
  ]
}